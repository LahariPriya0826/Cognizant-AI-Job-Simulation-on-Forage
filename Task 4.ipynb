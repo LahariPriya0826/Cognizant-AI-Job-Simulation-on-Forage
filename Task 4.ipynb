{
  "nbformat": 4,
  "nbformat_minor": 0,
  "metadata": {
    "colab": {
      "provenance": []
    },
    "kernelspec": {
      "name": "python3",
      "display_name": "Python 3"
    },
    "language_info": {
      "name": "python"
    }
  },
  "cells": [
    {
      "cell_type": "code",
      "source": [
        "import pandas as pd\n",
        "from sklearn.ensemble import RandomForestRegressor\n",
        "from sklearn.model_selection import train_test_split\n",
        "from sklearn.metrics import mean_absolute_error\n",
        "from sklearn.preprocessing import StandardScaler"
      ],
      "metadata": {
        "id": "3Q_m_r4W51Xu"
      },
      "execution_count": 11,
      "outputs": []
    },
    {
      "cell_type": "code",
      "source": [
        "# K is used to define the number of folds that will be used for cross-validation\n",
        "K = 10\n",
        "\n",
        "# SPLIT defines the % of data that will be used in the training sample\n",
        "# 1 - SPLIT = the % used for testing\n",
        "SPLIT = 0.75"
      ],
      "metadata": {
        "id": "-rpXKX_y53CD"
      },
      "execution_count": 12,
      "outputs": []
    },
    {
      "cell_type": "code",
      "source": [
        "# --- 3) ALGORITHM CODE\n",
        "# Load data\n",
        "def load_data(path: str = \"/content/sensor_storage_temperature.csv\"):\n",
        "    \"\"\"\n",
        "    This function takes a path string to a CSV file and loads it into\n",
        "    a Pandas DataFrame.\n",
        "\n",
        "    :param      path (optional): str, relative path of the CSV file\n",
        "\n",
        "    :return     df: pd.DataFrame\n",
        "    \"\"\"\n",
        "    df = pd.read_csv(path)\n",
        "    df.drop(columns=[\"Unnamed: 0\"], inplace=True, errors='ignore')\n",
        "    return df"
      ],
      "metadata": {
        "id": "crU86Mtq59oG"
      },
      "execution_count": 13,
      "outputs": []
    },
    {
      "cell_type": "code",
      "source": [
        "# Create target variable and predictor variables\n",
        "def create_target_and_predictors(data: pd.DataFrame, target: str = \"estimated_stock_pct\"):\n",
        "    \"\"\"\n",
        "    This function takes in a Pandas DataFrame and splits the columns\n",
        "    into a target column and a set of predictor variables, i.e. X & y.\n",
        "    These two splits of the data will be used to train a supervised\n",
        "    machine learning model.\n",
        "\n",
        "    :param      data: pd.DataFrame, dataframe containing data for the model\n",
        "    :param      target: str (optional), target variable that you want to predict\n",
        "\n",
        "    :return     X: pd.DataFrame\n",
        "                y: pd.Series\n",
        "    \"\"\"\n",
        "    # Check to see if the target variable is present in the data\n",
        "    if target not in data.columns:\n",
        "        raise Exception(f\"Target: {target} is not present in the data\")\n",
        "\n",
        "    X = data.drop(columns=[target])\n",
        "    y = data[target]\n",
        "    return X, y"
      ],
      "metadata": {
        "id": "94N3lqv16CxA"
      },
      "execution_count": 14,
      "outputs": []
    },
    {
      "cell_type": "code",
      "source": [
        "# Train algorithm\n",
        "def train_algorithm_with_cross_validation(X: pd.DataFrame, y: pd.Series):\n",
        "    \"\"\"\n",
        "    This function takes the predictor and target variables and\n",
        "    trains a Random Forest Regressor model across K folds. Using\n",
        "    cross-validation, performance metrics will be output for each\n",
        "    fold during training.\n",
        "\n",
        "    :param      X: pd.DataFrame, predictor variables\n",
        "    :param      y: pd.Series, target variable\n",
        "\n",
        "    :return\n",
        "    \"\"\"\n",
        "    # Create a list that will store the accuracies of each fold\n",
        "    accuracy = []\n",
        "\n",
        "    # Enter a loop to run K folds of cross-validation\n",
        "    for fold in range(0, K):\n",
        "        # Instantiate algorithm and scaler\n",
        "        model = RandomForestRegressor()\n",
        "        scaler = StandardScaler()\n",
        "\n",
        "        # Create training and test samples\n",
        "        X_train, X_test, y_train, y_test = train_test_split(X, y, train_size=SPLIT, random_state=42)\n",
        "\n",
        "        # Scale X data, we scale the data because it helps the algorithm to converge\n",
        "        # and helps the algorithm to not be greedy with large values\n",
        "        scaler.fit(X_train)\n",
        "        X_train = scaler.transform(X_train)\n",
        "        X_test = scaler.transform(X_test)\n",
        "\n",
        "        # Train model\n",
        "        trained_model = model.fit(X_train, y_train)\n",
        "\n",
        "        # Generate predictions on test sample\n",
        "        y_pred = trained_model.predict(X_test)\n",
        "\n",
        "        # Compute accuracy, using mean absolute error\n",
        "        mae = mean_absolute_error(y_true=y_test, y_pred=y_pred)\n",
        "        accuracy.append(mae)\n",
        "        print(f\"Fold {fold + 1}: MAE = {mae:.3f}\")\n",
        "\n",
        "    # Finish by computing the average MAE across all folds\n",
        "    print(f\"Average MAE: {(sum(accuracy) / len(accuracy)):.2f}\")"
      ],
      "metadata": {
        "id": "1jSW6ogN6ICX"
      },
      "execution_count": 15,
      "outputs": []
    }
  ]
}